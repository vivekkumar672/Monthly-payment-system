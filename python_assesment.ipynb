{
  "metadata": {
    "kernelspec": {
      "name": "python",
      "display_name": "Python (Pyodide)",
      "language": "python"
    },
    "language_info": {
      "codemirror_mode": {
        "name": "python",
        "version": 3
      },
      "file_extension": ".py",
      "mimetype": "text/x-python",
      "name": "python",
      "nbconvert_exporter": "python",
      "pygments_lexer": "ipython3",
      "version": "3.8"
    }
  },
  "nbformat_minor": 5,
  "nbformat": 4,
  "cells": [
    {
      "id": "03138636-3b27-4af0-9a1e-1c6a7a316e8c",
      "cell_type": "code",
      "source": "from datetime import datetime, timedelta\nfrom collections import defaultdict\nimport calendar\n\ndef generate_monthly_bill(item_list: list, target_month: str) -> dict:\n    # Determine the start and end of the target month\n    year, month = map(int, target_month.split(\"-\"))\n    month_start = datetime(year, month, 1)\n    last_day = calendar.monthrange(year, month)[1]\n    month_end = datetime(year, month, last_day)\n\n    groups = defaultdict(lambda: {\"qty\": 0, \"amount\": 0.0})\n    total_revenue = 0.0\n\n    for item in item_list:\n        # Convert and clean up input data\n        start_date = datetime.strptime(item[\"start_date\"], \"%Y-%m-%d\")\n        stop_date = datetime.strptime(item[\"stop_date\"], \"%Y-%m-%d\")\n        rate = float(item[\"rate\"])\n        qty = int(item[\"qty\"])\n\n        # Determine if item is active in the target month\n        active_start = max(start_date, month_start)\n        active_end = min(stop_date, month_end)\n\n        if active_start > active_end:\n            continue  # Skip inactive items\n\n        # Calculate active days and total days in month\n        active_days = (active_end - active_start).days + 1\n        total_days = (month_end - month_start).days + 1\n        billing_period = f\"{active_start.date()} to {active_end.date()}\"\n\n        # Calculate prorated amount\n        prorated_amount = (rate * qty) * (active_days / total_days)\n\n        # Group key: item_code, rate, billing_period\n        group_key = (item[\"item_code\"], rate, billing_period)\n        groups[group_key][\"qty\"] += qty\n        groups[group_key][\"amount\"] += prorated_amount\n\n    # Construct final output\n    line_items = []\n    for (item_code, rate, billing_period), data in groups.items():\n        line_items.append({\n            \"item_code\": item_code,\n            \"rate\": rate,\n            \"qty\": data[\"qty\"],\n            \"amount\": round(data[\"amount\"], 2),\n            \"billing_period\": billing_period\n        })\n        total_revenue += data[\"amount\"]\n\n    return {\n        \"line_items\": line_items,\n        \"total_revenue\": round(total_revenue, 2)\n    }\n",
      "metadata": {
        "trusted": true
      },
      "outputs": [],
      "execution_count": null
    }
  ]
}